{
 "cells": [
  {
   "cell_type": "markdown",
   "id": "2d7218c7",
   "metadata": {},
   "source": [
    "# 데이터 전처리하기"
   ]
  },
  {
   "cell_type": "code",
   "execution_count": 114,
   "id": "9d991424",
   "metadata": {
    "ExecuteTime": {
     "end_time": "2022-08-07T00:49:48.483274Z",
     "start_time": "2022-08-07T00:49:48.469774Z"
    }
   },
   "outputs": [],
   "source": [
    "import numpy as np\n",
    "import pandas as pd\n",
    "import seaborn as sns\n",
    "import matplotlib.pyplot as plt\n",
    "from lightgbm import LGBMClassifier\n",
    "from xgboost import XGBClassifier\n",
    "from xgboost import XGBRegressor\n",
    "from sklearn.ensemble import RandomForestClassifier\n",
    "import warnings\n",
    "warnings.filterwarnings('ignore')\n",
    "from sklearn.model_selection import train_test_split\n",
    "from sklearn.preprocessing import QuantileTransformer"
   ]
  },
  {
   "cell_type": "code",
   "execution_count": 86,
   "id": "20d514bc",
   "metadata": {
    "ExecuteTime": {
     "end_time": "2022-08-07T00:39:19.599293Z",
     "start_time": "2022-08-07T00:39:19.470221Z"
    }
   },
   "outputs": [],
   "source": [
    "train = pd.read_csv(\"train.csv\")"
   ]
  },
  {
   "cell_type": "markdown",
   "id": "a678a1d6",
   "metadata": {},
   "source": [
    "## 데이터 살펴보기"
   ]
  },
  {
   "cell_type": "code",
   "execution_count": 87,
   "id": "5d11f13b",
   "metadata": {
    "ExecuteTime": {
     "end_time": "2022-08-07T00:39:20.373512Z",
     "start_time": "2022-08-07T00:39:20.322541Z"
    }
   },
   "outputs": [
    {
     "data": {
      "text/html": [
       "<div>\n",
       "<style scoped>\n",
       "    .dataframe tbody tr th:only-of-type {\n",
       "        vertical-align: middle;\n",
       "    }\n",
       "\n",
       "    .dataframe tbody tr th {\n",
       "        vertical-align: top;\n",
       "    }\n",
       "\n",
       "    .dataframe thead th {\n",
       "        text-align: right;\n",
       "    }\n",
       "</style>\n",
       "<table border=\"1\" class=\"dataframe\">\n",
       "  <thead>\n",
       "    <tr style=\"text-align: right;\">\n",
       "      <th></th>\n",
       "      <th>index</th>\n",
       "      <th>Q1</th>\n",
       "      <th>Q2</th>\n",
       "      <th>Q3</th>\n",
       "      <th>Q4</th>\n",
       "      <th>Q5</th>\n",
       "      <th>Q6</th>\n",
       "      <th>Q7</th>\n",
       "      <th>Q8</th>\n",
       "      <th>Q9</th>\n",
       "      <th>...</th>\n",
       "      <th>engnat</th>\n",
       "      <th>age</th>\n",
       "      <th>hand</th>\n",
       "      <th>religion</th>\n",
       "      <th>orientation</th>\n",
       "      <th>voted</th>\n",
       "      <th>married</th>\n",
       "      <th>familysize</th>\n",
       "      <th>ASD</th>\n",
       "      <th>nerdiness</th>\n",
       "    </tr>\n",
       "  </thead>\n",
       "  <tbody>\n",
       "    <tr>\n",
       "      <th>0</th>\n",
       "      <td>0</td>\n",
       "      <td>1.0</td>\n",
       "      <td>5.0</td>\n",
       "      <td>5.0</td>\n",
       "      <td>5.0</td>\n",
       "      <td>1.0</td>\n",
       "      <td>4.0</td>\n",
       "      <td>5.0</td>\n",
       "      <td>5.0</td>\n",
       "      <td>1.0</td>\n",
       "      <td>...</td>\n",
       "      <td>1.0</td>\n",
       "      <td>20</td>\n",
       "      <td>2.0</td>\n",
       "      <td>12.0</td>\n",
       "      <td>4.0</td>\n",
       "      <td>2.0</td>\n",
       "      <td>1.0</td>\n",
       "      <td>4.0</td>\n",
       "      <td>2.0</td>\n",
       "      <td>1</td>\n",
       "    </tr>\n",
       "    <tr>\n",
       "      <th>1</th>\n",
       "      <td>1</td>\n",
       "      <td>4.0</td>\n",
       "      <td>4.0</td>\n",
       "      <td>4.0</td>\n",
       "      <td>4.0</td>\n",
       "      <td>4.0</td>\n",
       "      <td>5.0</td>\n",
       "      <td>4.0</td>\n",
       "      <td>4.0</td>\n",
       "      <td>3.0</td>\n",
       "      <td>...</td>\n",
       "      <td>1.0</td>\n",
       "      <td>49</td>\n",
       "      <td>1.0</td>\n",
       "      <td>2.0</td>\n",
       "      <td>1.0</td>\n",
       "      <td>1.0</td>\n",
       "      <td>2.0</td>\n",
       "      <td>4.0</td>\n",
       "      <td>2.0</td>\n",
       "      <td>1</td>\n",
       "    </tr>\n",
       "    <tr>\n",
       "      <th>2</th>\n",
       "      <td>2</td>\n",
       "      <td>4.0</td>\n",
       "      <td>5.0</td>\n",
       "      <td>5.0</td>\n",
       "      <td>4.0</td>\n",
       "      <td>3.0</td>\n",
       "      <td>5.0</td>\n",
       "      <td>5.0</td>\n",
       "      <td>5.0</td>\n",
       "      <td>4.0</td>\n",
       "      <td>...</td>\n",
       "      <td>2.0</td>\n",
       "      <td>43</td>\n",
       "      <td>1.0</td>\n",
       "      <td>2.0</td>\n",
       "      <td>2.0</td>\n",
       "      <td>2.0</td>\n",
       "      <td>3.0</td>\n",
       "      <td>4.0</td>\n",
       "      <td>2.0</td>\n",
       "      <td>1</td>\n",
       "    </tr>\n",
       "    <tr>\n",
       "      <th>3</th>\n",
       "      <td>3</td>\n",
       "      <td>4.0</td>\n",
       "      <td>4.0</td>\n",
       "      <td>4.0</td>\n",
       "      <td>2.0</td>\n",
       "      <td>4.0</td>\n",
       "      <td>3.0</td>\n",
       "      <td>3.0</td>\n",
       "      <td>5.0</td>\n",
       "      <td>3.0</td>\n",
       "      <td>...</td>\n",
       "      <td>1.0</td>\n",
       "      <td>17</td>\n",
       "      <td>2.0</td>\n",
       "      <td>1.0</td>\n",
       "      <td>1.0</td>\n",
       "      <td>2.0</td>\n",
       "      <td>1.0</td>\n",
       "      <td>2.0</td>\n",
       "      <td>2.0</td>\n",
       "      <td>1</td>\n",
       "    </tr>\n",
       "    <tr>\n",
       "      <th>4</th>\n",
       "      <td>4</td>\n",
       "      <td>4.0</td>\n",
       "      <td>4.0</td>\n",
       "      <td>4.0</td>\n",
       "      <td>4.0</td>\n",
       "      <td>3.0</td>\n",
       "      <td>3.0</td>\n",
       "      <td>4.0</td>\n",
       "      <td>2.0</td>\n",
       "      <td>3.0</td>\n",
       "      <td>...</td>\n",
       "      <td>2.0</td>\n",
       "      <td>18</td>\n",
       "      <td>2.0</td>\n",
       "      <td>12.0</td>\n",
       "      <td>1.0</td>\n",
       "      <td>2.0</td>\n",
       "      <td>1.0</td>\n",
       "      <td>1.0</td>\n",
       "      <td>2.0</td>\n",
       "      <td>0</td>\n",
       "    </tr>\n",
       "    <tr>\n",
       "      <th>...</th>\n",
       "      <td>...</td>\n",
       "      <td>...</td>\n",
       "      <td>...</td>\n",
       "      <td>...</td>\n",
       "      <td>...</td>\n",
       "      <td>...</td>\n",
       "      <td>...</td>\n",
       "      <td>...</td>\n",
       "      <td>...</td>\n",
       "      <td>...</td>\n",
       "      <td>...</td>\n",
       "      <td>...</td>\n",
       "      <td>...</td>\n",
       "      <td>...</td>\n",
       "      <td>...</td>\n",
       "      <td>...</td>\n",
       "      <td>...</td>\n",
       "      <td>...</td>\n",
       "      <td>...</td>\n",
       "      <td>...</td>\n",
       "      <td>...</td>\n",
       "    </tr>\n",
       "    <tr>\n",
       "      <th>14995</th>\n",
       "      <td>14995</td>\n",
       "      <td>2.0</td>\n",
       "      <td>5.0</td>\n",
       "      <td>4.0</td>\n",
       "      <td>3.0</td>\n",
       "      <td>3.0</td>\n",
       "      <td>4.0</td>\n",
       "      <td>4.0</td>\n",
       "      <td>4.0</td>\n",
       "      <td>3.0</td>\n",
       "      <td>...</td>\n",
       "      <td>1.0</td>\n",
       "      <td>17</td>\n",
       "      <td>1.0</td>\n",
       "      <td>1.0</td>\n",
       "      <td>3.0</td>\n",
       "      <td>2.0</td>\n",
       "      <td>1.0</td>\n",
       "      <td>3.0</td>\n",
       "      <td>2.0</td>\n",
       "      <td>0</td>\n",
       "    </tr>\n",
       "    <tr>\n",
       "      <th>14996</th>\n",
       "      <td>14996</td>\n",
       "      <td>5.0</td>\n",
       "      <td>4.0</td>\n",
       "      <td>5.0</td>\n",
       "      <td>4.0</td>\n",
       "      <td>4.0</td>\n",
       "      <td>5.0</td>\n",
       "      <td>5.0</td>\n",
       "      <td>4.0</td>\n",
       "      <td>4.0</td>\n",
       "      <td>...</td>\n",
       "      <td>2.0</td>\n",
       "      <td>45</td>\n",
       "      <td>1.0</td>\n",
       "      <td>3.0</td>\n",
       "      <td>1.0</td>\n",
       "      <td>1.0</td>\n",
       "      <td>2.0</td>\n",
       "      <td>3.0</td>\n",
       "      <td>2.0</td>\n",
       "      <td>1</td>\n",
       "    </tr>\n",
       "    <tr>\n",
       "      <th>14997</th>\n",
       "      <td>14997</td>\n",
       "      <td>4.0</td>\n",
       "      <td>5.0</td>\n",
       "      <td>5.0</td>\n",
       "      <td>5.0</td>\n",
       "      <td>5.0</td>\n",
       "      <td>5.0</td>\n",
       "      <td>5.0</td>\n",
       "      <td>5.0</td>\n",
       "      <td>4.0</td>\n",
       "      <td>...</td>\n",
       "      <td>1.0</td>\n",
       "      <td>20</td>\n",
       "      <td>1.0</td>\n",
       "      <td>1.0</td>\n",
       "      <td>2.0</td>\n",
       "      <td>1.0</td>\n",
       "      <td>1.0</td>\n",
       "      <td>3.0</td>\n",
       "      <td>1.0</td>\n",
       "      <td>1</td>\n",
       "    </tr>\n",
       "    <tr>\n",
       "      <th>14998</th>\n",
       "      <td>14998</td>\n",
       "      <td>5.0</td>\n",
       "      <td>5.0</td>\n",
       "      <td>4.0</td>\n",
       "      <td>5.0</td>\n",
       "      <td>5.0</td>\n",
       "      <td>5.0</td>\n",
       "      <td>5.0</td>\n",
       "      <td>1.0</td>\n",
       "      <td>5.0</td>\n",
       "      <td>...</td>\n",
       "      <td>1.0</td>\n",
       "      <td>29</td>\n",
       "      <td>1.0</td>\n",
       "      <td>12.0</td>\n",
       "      <td>4.0</td>\n",
       "      <td>2.0</td>\n",
       "      <td>2.0</td>\n",
       "      <td>2.0</td>\n",
       "      <td>1.0</td>\n",
       "      <td>0</td>\n",
       "    </tr>\n",
       "    <tr>\n",
       "      <th>14999</th>\n",
       "      <td>14999</td>\n",
       "      <td>5.0</td>\n",
       "      <td>4.0</td>\n",
       "      <td>2.0</td>\n",
       "      <td>5.0</td>\n",
       "      <td>2.0</td>\n",
       "      <td>2.0</td>\n",
       "      <td>4.0</td>\n",
       "      <td>2.0</td>\n",
       "      <td>4.0</td>\n",
       "      <td>...</td>\n",
       "      <td>2.0</td>\n",
       "      <td>21</td>\n",
       "      <td>1.0</td>\n",
       "      <td>2.0</td>\n",
       "      <td>2.0</td>\n",
       "      <td>2.0</td>\n",
       "      <td>1.0</td>\n",
       "      <td>1.0</td>\n",
       "      <td>2.0</td>\n",
       "      <td>1</td>\n",
       "    </tr>\n",
       "  </tbody>\n",
       "</table>\n",
       "<p>15000 rows × 70 columns</p>\n",
       "</div>"
      ],
      "text/plain": [
       "       index   Q1   Q2   Q3   Q4   Q5   Q6   Q7   Q8   Q9  ...  engnat  age  \\\n",
       "0          0  1.0  5.0  5.0  5.0  1.0  4.0  5.0  5.0  1.0  ...     1.0   20   \n",
       "1          1  4.0  4.0  4.0  4.0  4.0  5.0  4.0  4.0  3.0  ...     1.0   49   \n",
       "2          2  4.0  5.0  5.0  4.0  3.0  5.0  5.0  5.0  4.0  ...     2.0   43   \n",
       "3          3  4.0  4.0  4.0  2.0  4.0  3.0  3.0  5.0  3.0  ...     1.0   17   \n",
       "4          4  4.0  4.0  4.0  4.0  3.0  3.0  4.0  2.0  3.0  ...     2.0   18   \n",
       "...      ...  ...  ...  ...  ...  ...  ...  ...  ...  ...  ...     ...  ...   \n",
       "14995  14995  2.0  5.0  4.0  3.0  3.0  4.0  4.0  4.0  3.0  ...     1.0   17   \n",
       "14996  14996  5.0  4.0  5.0  4.0  4.0  5.0  5.0  4.0  4.0  ...     2.0   45   \n",
       "14997  14997  4.0  5.0  5.0  5.0  5.0  5.0  5.0  5.0  4.0  ...     1.0   20   \n",
       "14998  14998  5.0  5.0  4.0  5.0  5.0  5.0  5.0  1.0  5.0  ...     1.0   29   \n",
       "14999  14999  5.0  4.0  2.0  5.0  2.0  2.0  4.0  2.0  4.0  ...     2.0   21   \n",
       "\n",
       "       hand  religion  orientation  voted  married  familysize  ASD  nerdiness  \n",
       "0       2.0      12.0          4.0    2.0      1.0         4.0  2.0          1  \n",
       "1       1.0       2.0          1.0    1.0      2.0         4.0  2.0          1  \n",
       "2       1.0       2.0          2.0    2.0      3.0         4.0  2.0          1  \n",
       "3       2.0       1.0          1.0    2.0      1.0         2.0  2.0          1  \n",
       "4       2.0      12.0          1.0    2.0      1.0         1.0  2.0          0  \n",
       "...     ...       ...          ...    ...      ...         ...  ...        ...  \n",
       "14995   1.0       1.0          3.0    2.0      1.0         3.0  2.0          0  \n",
       "14996   1.0       3.0          1.0    1.0      2.0         3.0  2.0          1  \n",
       "14997   1.0       1.0          2.0    1.0      1.0         3.0  1.0          1  \n",
       "14998   1.0      12.0          4.0    2.0      2.0         2.0  1.0          0  \n",
       "14999   1.0       2.0          2.0    2.0      1.0         1.0  2.0          1  \n",
       "\n",
       "[15000 rows x 70 columns]"
      ]
     },
     "execution_count": 87,
     "metadata": {},
     "output_type": "execute_result"
    }
   ],
   "source": [
    "train"
   ]
  },
  {
   "cell_type": "code",
   "execution_count": 88,
   "id": "3fe96e3d",
   "metadata": {
    "ExecuteTime": {
     "end_time": "2022-08-07T00:39:20.651331Z",
     "start_time": "2022-08-07T00:39:20.640707Z"
    }
   },
   "outputs": [
    {
     "data": {
      "text/plain": [
       "Index(['index', 'Q1', 'Q2', 'Q3', 'Q4', 'Q5', 'Q6', 'Q7', 'Q8', 'Q9', 'Q10',\n",
       "       'Q11', 'Q12', 'Q13', 'Q14', 'Q15', 'Q16', 'Q17', 'Q18', 'Q19', 'Q20',\n",
       "       'Q21', 'Q22', 'Q23', 'Q24', 'Q25', 'Q26', 'country', 'introelapse',\n",
       "       'testelapse', 'surveyelapse', 'TIPI1', 'TIPI2', 'TIPI3', 'TIPI4',\n",
       "       'TIPI5', 'TIPI6', 'TIPI7', 'TIPI8', 'TIPI9', 'TIPI10', 'VCL1', 'VCL2',\n",
       "       'VCL3', 'VCL4', 'VCL5', 'VCL6', 'VCL7', 'VCL8', 'VCL9', 'VCL10',\n",
       "       'VCL11', 'VCL12', 'VCL13', 'VCL14', 'VCL15', 'VCL16', 'education',\n",
       "       'urban', 'gender', 'engnat', 'age', 'hand', 'religion', 'orientation',\n",
       "       'voted', 'married', 'familysize', 'ASD', 'nerdiness'],\n",
       "      dtype='object')"
      ]
     },
     "execution_count": 88,
     "metadata": {},
     "output_type": "execute_result"
    }
   ],
   "source": [
    "train.columns"
   ]
  },
  {
   "cell_type": "code",
   "execution_count": 89,
   "id": "4a4304b1",
   "metadata": {
    "ExecuteTime": {
     "end_time": "2022-08-07T00:39:21.082909Z",
     "start_time": "2022-08-07T00:39:21.046342Z"
    }
   },
   "outputs": [
    {
     "name": "stdout",
     "output_type": "stream",
     "text": [
      "<class 'pandas.core.frame.DataFrame'>\n",
      "RangeIndex: 15000 entries, 0 to 14999\n",
      "Data columns (total 70 columns):\n",
      " #   Column        Non-Null Count  Dtype  \n",
      "---  ------        --------------  -----  \n",
      " 0   index         15000 non-null  int64  \n",
      " 1   Q1            14959 non-null  float64\n",
      " 2   Q2            14931 non-null  float64\n",
      " 3   Q3            14950 non-null  float64\n",
      " 4   Q4            14929 non-null  float64\n",
      " 5   Q5            14962 non-null  float64\n",
      " 6   Q6            14952 non-null  float64\n",
      " 7   Q7            14924 non-null  float64\n",
      " 8   Q8            14952 non-null  float64\n",
      " 9   Q9            14944 non-null  float64\n",
      " 10  Q10           14928 non-null  float64\n",
      " 11  Q11           14941 non-null  float64\n",
      " 12  Q12           14933 non-null  float64\n",
      " 13  Q13           14960 non-null  float64\n",
      " 14  Q14           14964 non-null  float64\n",
      " 15  Q15           14955 non-null  float64\n",
      " 16  Q16           14967 non-null  float64\n",
      " 17  Q17           14963 non-null  float64\n",
      " 18  Q18           14937 non-null  float64\n",
      " 19  Q19           14947 non-null  float64\n",
      " 20  Q20           14955 non-null  float64\n",
      " 21  Q21           14961 non-null  float64\n",
      " 22  Q22           14962 non-null  float64\n",
      " 23  Q23           14950 non-null  float64\n",
      " 24  Q24           14939 non-null  float64\n",
      " 25  Q25           14956 non-null  float64\n",
      " 26  Q26           14932 non-null  float64\n",
      " 27  country       14810 non-null  object \n",
      " 28  introelapse   15000 non-null  int64  \n",
      " 29  testelapse    15000 non-null  int64  \n",
      " 30  surveyelapse  15000 non-null  int64  \n",
      " 31  TIPI1         14947 non-null  float64\n",
      " 32  TIPI2         14934 non-null  float64\n",
      " 33  TIPI3         14921 non-null  float64\n",
      " 34  TIPI4         14936 non-null  float64\n",
      " 35  TIPI5         14930 non-null  float64\n",
      " 36  TIPI6         14938 non-null  float64\n",
      " 37  TIPI7         14936 non-null  float64\n",
      " 38  TIPI8         14935 non-null  float64\n",
      " 39  TIPI9         14936 non-null  float64\n",
      " 40  TIPI10        14920 non-null  float64\n",
      " 41  VCL1          15000 non-null  int64  \n",
      " 42  VCL2          15000 non-null  int64  \n",
      " 43  VCL3          15000 non-null  int64  \n",
      " 44  VCL4          15000 non-null  int64  \n",
      " 45  VCL5          15000 non-null  int64  \n",
      " 46  VCL6          15000 non-null  int64  \n",
      " 47  VCL7          15000 non-null  int64  \n",
      " 48  VCL8          15000 non-null  int64  \n",
      " 49  VCL9          15000 non-null  int64  \n",
      " 50  VCL10         15000 non-null  int64  \n",
      " 51  VCL11         15000 non-null  int64  \n",
      " 52  VCL12         15000 non-null  int64  \n",
      " 53  VCL13         15000 non-null  int64  \n",
      " 54  VCL14         15000 non-null  int64  \n",
      " 55  VCL15         15000 non-null  int64  \n",
      " 56  VCL16         15000 non-null  int64  \n",
      " 57  education     14833 non-null  float64\n",
      " 58  urban         15000 non-null  int64  \n",
      " 59  gender        14981 non-null  float64\n",
      " 60  engnat        14953 non-null  float64\n",
      " 61  age           15000 non-null  int64  \n",
      " 62  hand          14953 non-null  float64\n",
      " 63  religion      14755 non-null  float64\n",
      " 64  orientation   14601 non-null  float64\n",
      " 65  voted         14915 non-null  float64\n",
      " 66  married       14918 non-null  float64\n",
      " 67  familysize    14681 non-null  float64\n",
      " 68  ASD           14911 non-null  float64\n",
      " 69  nerdiness     15000 non-null  int64  \n",
      "dtypes: float64(46), int64(23), object(1)\n",
      "memory usage: 8.0+ MB\n"
     ]
    }
   ],
   "source": [
    "train.info()"
   ]
  },
  {
   "cell_type": "code",
   "execution_count": 90,
   "id": "85fda2e1",
   "metadata": {
    "ExecuteTime": {
     "end_time": "2022-08-07T00:39:21.483134Z",
     "start_time": "2022-08-07T00:39:21.446512Z"
    }
   },
   "outputs": [
    {
     "data": {
      "text/plain": [
       "<bound method NDFrame.describe of        index   Q1   Q2   Q3   Q4   Q5   Q6   Q7   Q8   Q9  ...  engnat  age  \\\n",
       "0          0  1.0  5.0  5.0  5.0  1.0  4.0  5.0  5.0  1.0  ...     1.0   20   \n",
       "1          1  4.0  4.0  4.0  4.0  4.0  5.0  4.0  4.0  3.0  ...     1.0   49   \n",
       "2          2  4.0  5.0  5.0  4.0  3.0  5.0  5.0  5.0  4.0  ...     2.0   43   \n",
       "3          3  4.0  4.0  4.0  2.0  4.0  3.0  3.0  5.0  3.0  ...     1.0   17   \n",
       "4          4  4.0  4.0  4.0  4.0  3.0  3.0  4.0  2.0  3.0  ...     2.0   18   \n",
       "...      ...  ...  ...  ...  ...  ...  ...  ...  ...  ...  ...     ...  ...   \n",
       "14995  14995  2.0  5.0  4.0  3.0  3.0  4.0  4.0  4.0  3.0  ...     1.0   17   \n",
       "14996  14996  5.0  4.0  5.0  4.0  4.0  5.0  5.0  4.0  4.0  ...     2.0   45   \n",
       "14997  14997  4.0  5.0  5.0  5.0  5.0  5.0  5.0  5.0  4.0  ...     1.0   20   \n",
       "14998  14998  5.0  5.0  4.0  5.0  5.0  5.0  5.0  1.0  5.0  ...     1.0   29   \n",
       "14999  14999  5.0  4.0  2.0  5.0  2.0  2.0  4.0  2.0  4.0  ...     2.0   21   \n",
       "\n",
       "       hand  religion  orientation  voted  married  familysize  ASD  nerdiness  \n",
       "0       2.0      12.0          4.0    2.0      1.0         4.0  2.0          1  \n",
       "1       1.0       2.0          1.0    1.0      2.0         4.0  2.0          1  \n",
       "2       1.0       2.0          2.0    2.0      3.0         4.0  2.0          1  \n",
       "3       2.0       1.0          1.0    2.0      1.0         2.0  2.0          1  \n",
       "4       2.0      12.0          1.0    2.0      1.0         1.0  2.0          0  \n",
       "...     ...       ...          ...    ...      ...         ...  ...        ...  \n",
       "14995   1.0       1.0          3.0    2.0      1.0         3.0  2.0          0  \n",
       "14996   1.0       3.0          1.0    1.0      2.0         3.0  2.0          1  \n",
       "14997   1.0       1.0          2.0    1.0      1.0         3.0  1.0          1  \n",
       "14998   1.0      12.0          4.0    2.0      2.0         2.0  1.0          0  \n",
       "14999   1.0       2.0          2.0    2.0      1.0         1.0  2.0          1  \n",
       "\n",
       "[15000 rows x 70 columns]>"
      ]
     },
     "execution_count": 90,
     "metadata": {},
     "output_type": "execute_result"
    }
   ],
   "source": [
    "train.describe"
   ]
  },
  {
   "cell_type": "markdown",
   "id": "4292d8ba",
   "metadata": {},
   "source": [
    "## 이상 값 발견 "
   ]
  },
  {
   "cell_type": "code",
   "execution_count": 91,
   "id": "fb9789f2",
   "metadata": {
    "ExecuteTime": {
     "end_time": "2022-08-07T00:39:23.158725Z",
     "start_time": "2022-08-07T00:39:22.511533Z"
    }
   },
   "outputs": [
    {
     "data": {
      "image/png": "[encoded data removed]",
      "text/plain": [
       "<Figure size 640x480 with 1 Axes>"
      ]
     },
     "metadata": {},
     "output_type": "display_data"
    }
   ],
   "source": [
    "sns.scatterplot(y = train[\"familysize\"], x = train[\"index\"] ,hue = train[\"nerdiness\"])\n",
    "plt.show()"
   ]
  },
  {
   "cell_type": "code",
   "execution_count": 92,
   "id": "8b5f63fe",
   "metadata": {
    "ExecuteTime": {
     "end_time": "2022-08-07T00:39:24.070582Z",
     "start_time": "2022-08-07T00:39:23.332511Z"
    }
   },
   "outputs": [
    {
     "data": {
      "image/png": "[encoded data removed]",
      "text/plain": [
       "<Figure size 640x480 with 1 Axes>"
      ]
     },
     "metadata": {},
     "output_type": "display_data"
    }
   ],
   "source": [
    "sns.scatterplot(y = train[\"age\"], x = train[\"index\"] ,hue = train[\"nerdiness\"])\n",
    "plt.show()"
   ]
  },
  {
   "cell_type": "markdown",
   "id": "dd5ae90d",
   "metadata": {},
   "source": [
    "## 결측치 넣어주기"
   ]
  },
  {
   "cell_type": "code",
   "execution_count": 93,
   "id": "745d41db",
   "metadata": {
    "ExecuteTime": {
     "end_time": "2022-08-07T00:40:17.499427Z",
     "start_time": "2022-08-07T00:40:17.426672Z"
    }
   },
   "outputs": [
    {
     "name": "stdout",
     "output_type": "stream",
     "text": [
      "0 index\n",
      "1 Q1\n",
      "2 Q2\n",
      "3 Q3\n",
      "4 Q4\n",
      "5 Q5\n",
      "6 Q6\n",
      "7 Q7\n",
      "8 Q8\n",
      "9 Q9\n",
      "10 Q10\n",
      "11 Q11\n",
      "12 Q12\n",
      "13 Q13\n",
      "14 Q14\n",
      "15 Q15\n",
      "16 Q16\n",
      "17 Q17\n",
      "18 Q18\n",
      "19 Q19\n",
      "20 Q20\n",
      "21 Q21\n",
      "22 Q22\n",
      "23 Q23\n",
      "24 Q24\n",
      "25 Q25\n",
      "26 Q26\n",
      "27 country\n",
      "28 introelapse\n",
      "29 testelapse\n",
      "30 surveyelapse\n",
      "31 TIPI1\n",
      "32 TIPI2\n",
      "33 TIPI3\n",
      "34 TIPI4\n",
      "35 TIPI5\n",
      "36 TIPI6\n",
      "37 TIPI7\n",
      "38 TIPI8\n",
      "39 TIPI9\n",
      "40 TIPI10\n",
      "41 VCL1\n",
      "42 VCL2\n",
      "43 VCL3\n",
      "44 VCL4\n",
      "45 VCL5\n",
      "46 VCL6\n",
      "47 VCL7\n",
      "48 VCL8\n",
      "49 VCL9\n",
      "50 VCL10\n",
      "51 VCL11\n",
      "52 VCL12\n",
      "53 VCL13\n",
      "54 VCL14\n",
      "55 VCL15\n",
      "56 VCL16\n",
      "57 education\n",
      "58 urban\n",
      "59 gender\n",
      "60 engnat\n",
      "61 age\n",
      "62 hand\n",
      "63 religion\n",
      "64 orientation\n",
      "65 voted\n",
      "66 married\n",
      "67 familysize\n",
      "68 ASD\n",
      "69 nerdiness\n"
     ]
    }
   ],
   "source": [
    "col = train.columns\n",
    "for i,n in enumerate(col):\n",
    "    print(i,n)\n",
    "    if(i > 0 and i <27):\n",
    "        train.loc[train[n].isnull()== True,n] = 3\n",
    "    elif(i > 30 and i <41):\n",
    "        train.loc[train[n].isnull()== True,n] = 0\n",
    "    elif(i == 59 or i == 64):\n",
    "        train.loc[train[n].isnull()== True,n] = 3\n",
    "    elif(i ==57 or i == 60 or i == 62 or i == 63 or i == 65 or i == 66 or  i== 67 or i == 68):\n",
    "        train.loc[train[n].isnull()== True,n] = 0"
   ]
  },
  {
   "cell_type": "markdown",
   "id": "f1a5da04",
   "metadata": {},
   "source": [
    "## object 데이터 타입 => 정수형으로 바꿔주기 (나라이름)"
   ]
  },
  {
   "cell_type": "code",
   "execution_count": 94,
   "id": "d886b5cf",
   "metadata": {
    "ExecuteTime": {
     "end_time": "2022-08-07T00:43:07.722967Z",
     "start_time": "2022-08-07T00:43:07.715200Z"
    }
   },
   "outputs": [
    {
     "data": {
      "text/plain": [
       "array(['USA', 'NLD', 'ITA', 'ARE', 'DNK', 'GRC', 'QAT', 'GBR', 'ROU',\n",
       "       'HUN', 'AUS', 'POL', 'CAN', 'ARG', 'FRA', 'DEU', 'UKR', 'BGR',\n",
       "       'PAK', 'EST', 'PHL', 'SVN', nan, 'SRB', 'NZL', 'SWE', 'MAR', 'IDN',\n",
       "       'HKG', 'LUX', 'CHE', 'MYS', 'RUS', 'BRA', 'NOR', 'PRT', 'MEX',\n",
       "       'IND', 'VNM', 'AUT', 'FIN', 'ESP', 'GUM', 'CHL', 'SGP', 'HND',\n",
       "       'KOR', 'COL', 'IRL', 'CYP', 'BEL', 'AZE', 'IRQ', 'SVK', 'TUR',\n",
       "       'NGA', 'ZAF', 'JPN', 'ISR', 'URY', 'ISL', 'GHA', 'CZE', 'KEN',\n",
       "       'ECU', 'EGY', 'JOR', 'CRI', 'THA', 'PER', 'NPL', 'SAU', 'MKD',\n",
       "       'DOM', 'PRI', 'TTO', 'CUW', 'BGD', 'LTU', 'HRV', 'IRN', 'GRL',\n",
       "       'SDN', 'KWT', 'LVA', 'ALB', 'MDV', 'CHN', 'VEN', 'MUS', 'JAM',\n",
       "       'TWN', 'LBN', 'TUN', 'BIH', 'PNG', 'GUF', 'MDG', 'DZA', 'BRN',\n",
       "       'ALA', 'VGB', 'SLV', 'OMN', 'PRY', 'LBY', 'GEO', 'BWA', 'FRO',\n",
       "       'BHR', 'ZMB', 'UGA', 'NAM', 'KAZ', 'VIR', 'MLT', 'ARM', 'BHS',\n",
       "       'MAC', 'KHM', 'MNP', 'SYR', 'MNG', 'MOZ', 'FJI', 'AFG', 'FSM',\n",
       "       'AGO', 'MWI', 'SSD', 'GTM', 'LAO', 'GUY', 'RWA', 'PAN', 'BLR',\n",
       "       'BRB', 'ETH'], dtype=object)"
      ]
     },
     "execution_count": 94,
     "metadata": {},
     "output_type": "execute_result"
    }
   ],
   "source": [
    "train.country.unique()"
   ]
  },
  {
   "cell_type": "code",
   "execution_count": 95,
   "id": "c45d0f7b",
   "metadata": {
    "ExecuteTime": {
     "end_time": "2022-08-07T00:43:14.129125Z",
     "start_time": "2022-08-07T00:43:08.149787Z"
    }
   },
   "outputs": [],
   "source": [
    "ctr = list(train.country.unique())\n",
    "\n",
    "for _ in range(0, len(train.country)):\n",
    "        train.country[_] = ctr.index(train.country[_])\n",
    "train.country = pd.to_numeric(train.country)\n",
    "    "
   ]
  },
  {
   "cell_type": "code",
   "execution_count": 96,
   "id": "c1897a2a",
   "metadata": {
    "ExecuteTime": {
     "end_time": "2022-08-07T00:43:14.145082Z",
     "start_time": "2022-08-07T00:43:14.130139Z"
    }
   },
   "outputs": [
    {
     "data": {
      "text/plain": [
       "0         0\n",
       "1         0\n",
       "2         1\n",
       "3         0\n",
       "4         2\n",
       "         ..\n",
       "14995     0\n",
       "14996     0\n",
       "14997     0\n",
       "14998     0\n",
       "14999    33\n",
       "Name: country, Length: 15000, dtype: int64"
      ]
     },
     "execution_count": 96,
     "metadata": {},
     "output_type": "execute_result"
    }
   ],
   "source": [
    " train.country"
   ]
  },
  {
   "cell_type": "code",
   "execution_count": 97,
   "id": "6d9e5ead",
   "metadata": {
    "ExecuteTime": {
     "end_time": "2022-08-07T00:43:14.192081Z",
     "start_time": "2022-08-07T00:43:14.149693Z"
    }
   },
   "outputs": [
    {
     "name": "stdout",
     "output_type": "stream",
     "text": [
      "<class 'pandas.core.frame.DataFrame'>\n",
      "RangeIndex: 15000 entries, 0 to 14999\n",
      "Data columns (total 70 columns):\n",
      " #   Column        Non-Null Count  Dtype  \n",
      "---  ------        --------------  -----  \n",
      " 0   index         15000 non-null  int64  \n",
      " 1   Q1            15000 non-null  float64\n",
      " 2   Q2            15000 non-null  float64\n",
      " 3   Q3            15000 non-null  float64\n",
      " 4   Q4            15000 non-null  float64\n",
      " 5   Q5            15000 non-null  float64\n",
      " 6   Q6            15000 non-null  float64\n",
      " 7   Q7            15000 non-null  float64\n",
      " 8   Q8            15000 non-null  float64\n",
      " 9   Q9            15000 non-null  float64\n",
      " 10  Q10           15000 non-null  float64\n",
      " 11  Q11           15000 non-null  float64\n",
      " 12  Q12           15000 non-null  float64\n",
      " 13  Q13           15000 non-null  float64\n",
      " 14  Q14           15000 non-null  float64\n",
      " 15  Q15           15000 non-null  float64\n",
      " 16  Q16           15000 non-null  float64\n",
      " 17  Q17           15000 non-null  float64\n",
      " 18  Q18           15000 non-null  float64\n",
      " 19  Q19           15000 non-null  float64\n",
      " 20  Q20           15000 non-null  float64\n",
      " 21  Q21           15000 non-null  float64\n",
      " 22  Q22           15000 non-null  float64\n",
      " 23  Q23           15000 non-null  float64\n",
      " 24  Q24           15000 non-null  float64\n",
      " 25  Q25           15000 non-null  float64\n",
      " 26  Q26           15000 non-null  float64\n",
      " 27  country       15000 non-null  int64  \n",
      " 28  introelapse   15000 non-null  int64  \n",
      " 29  testelapse    15000 non-null  int64  \n",
      " 30  surveyelapse  15000 non-null  int64  \n",
      " 31  TIPI1         15000 non-null  float64\n",
      " 32  TIPI2         15000 non-null  float64\n",
      " 33  TIPI3         15000 non-null  float64\n",
      " 34  TIPI4         15000 non-null  float64\n",
      " 35  TIPI5         15000 non-null  float64\n",
      " 36  TIPI6         15000 non-null  float64\n",
      " 37  TIPI7         15000 non-null  float64\n",
      " 38  TIPI8         15000 non-null  float64\n",
      " 39  TIPI9         15000 non-null  float64\n",
      " 40  TIPI10        15000 non-null  float64\n",
      " 41  VCL1          15000 non-null  int64  \n",
      " 42  VCL2          15000 non-null  int64  \n",
      " 43  VCL3          15000 non-null  int64  \n",
      " 44  VCL4          15000 non-null  int64  \n",
      " 45  VCL5          15000 non-null  int64  \n",
      " 46  VCL6          15000 non-null  int64  \n",
      " 47  VCL7          15000 non-null  int64  \n",
      " 48  VCL8          15000 non-null  int64  \n",
      " 49  VCL9          15000 non-null  int64  \n",
      " 50  VCL10         15000 non-null  int64  \n",
      " 51  VCL11         15000 non-null  int64  \n",
      " 52  VCL12         15000 non-null  int64  \n",
      " 53  VCL13         15000 non-null  int64  \n",
      " 54  VCL14         15000 non-null  int64  \n",
      " 55  VCL15         15000 non-null  int64  \n",
      " 56  VCL16         15000 non-null  int64  \n",
      " 57  education     15000 non-null  float64\n",
      " 58  urban         15000 non-null  int64  \n",
      " 59  gender        15000 non-null  float64\n",
      " 60  engnat        15000 non-null  float64\n",
      " 61  age           15000 non-null  int64  \n",
      " 62  hand          15000 non-null  float64\n",
      " 63  religion      15000 non-null  float64\n",
      " 64  orientation   15000 non-null  float64\n",
      " 65  voted         15000 non-null  float64\n",
      " 66  married       15000 non-null  float64\n",
      " 67  familysize    15000 non-null  float64\n",
      " 68  ASD           15000 non-null  float64\n",
      " 69  nerdiness     15000 non-null  int64  \n",
      "dtypes: float64(46), int64(24)\n",
      "memory usage: 8.0 MB\n"
     ]
    }
   ],
   "source": [
    "train.info()"
   ]
  },
  {
   "cell_type": "markdown",
   "id": "42ef5928",
   "metadata": {},
   "source": [
    "## 이상값을 xgboost regressor 모델로 예측해서 넣어주기"
   ]
  },
  {
   "cell_type": "code",
   "execution_count": 99,
   "id": "d5d1a725",
   "metadata": {
    "ExecuteTime": {
     "end_time": "2022-08-07T00:43:41.675268Z",
     "start_time": "2022-08-07T00:43:41.647786Z"
    }
   },
   "outputs": [
    {
     "data": {
      "text/html": [
       "<div>\n",
       "<style scoped>\n",
       "    .dataframe tbody tr th:only-of-type {\n",
       "        vertical-align: middle;\n",
       "    }\n",
       "\n",
       "    .dataframe tbody tr th {\n",
       "        vertical-align: top;\n",
       "    }\n",
       "\n",
       "    .dataframe thead th {\n",
       "        text-align: right;\n",
       "    }\n",
       "</style>\n",
       "<table border=\"1\" class=\"dataframe\">\n",
       "  <thead>\n",
       "    <tr style=\"text-align: right;\">\n",
       "      <th></th>\n",
       "      <th>index</th>\n",
       "      <th>Q1</th>\n",
       "      <th>Q2</th>\n",
       "      <th>Q3</th>\n",
       "      <th>Q4</th>\n",
       "      <th>Q5</th>\n",
       "      <th>Q6</th>\n",
       "      <th>Q7</th>\n",
       "      <th>Q8</th>\n",
       "      <th>Q9</th>\n",
       "      <th>...</th>\n",
       "      <th>engnat</th>\n",
       "      <th>age</th>\n",
       "      <th>hand</th>\n",
       "      <th>religion</th>\n",
       "      <th>orientation</th>\n",
       "      <th>voted</th>\n",
       "      <th>married</th>\n",
       "      <th>familysize</th>\n",
       "      <th>ASD</th>\n",
       "      <th>nerdiness</th>\n",
       "    </tr>\n",
       "  </thead>\n",
       "  <tbody>\n",
       "    <tr>\n",
       "      <th>4976</th>\n",
       "      <td>4976</td>\n",
       "      <td>4.0</td>\n",
       "      <td>5.0</td>\n",
       "      <td>4.0</td>\n",
       "      <td>3.0</td>\n",
       "      <td>4.0</td>\n",
       "      <td>4.0</td>\n",
       "      <td>4.0</td>\n",
       "      <td>4.0</td>\n",
       "      <td>5.0</td>\n",
       "      <td>...</td>\n",
       "      <td>2.0</td>\n",
       "      <td>545</td>\n",
       "      <td>1.0</td>\n",
       "      <td>2.0</td>\n",
       "      <td>1.0</td>\n",
       "      <td>1.0</td>\n",
       "      <td>2.0</td>\n",
       "      <td>4.0</td>\n",
       "      <td>2.0</td>\n",
       "      <td>0</td>\n",
       "    </tr>\n",
       "    <tr>\n",
       "      <th>6725</th>\n",
       "      <td>6725</td>\n",
       "      <td>1.0</td>\n",
       "      <td>1.0</td>\n",
       "      <td>3.0</td>\n",
       "      <td>3.0</td>\n",
       "      <td>5.0</td>\n",
       "      <td>3.0</td>\n",
       "      <td>5.0</td>\n",
       "      <td>1.0</td>\n",
       "      <td>5.0</td>\n",
       "      <td>...</td>\n",
       "      <td>1.0</td>\n",
       "      <td>722</td>\n",
       "      <td>2.0</td>\n",
       "      <td>2.0</td>\n",
       "      <td>1.0</td>\n",
       "      <td>1.0</td>\n",
       "      <td>2.0</td>\n",
       "      <td>3.0</td>\n",
       "      <td>2.0</td>\n",
       "      <td>0</td>\n",
       "    </tr>\n",
       "    <tr>\n",
       "      <th>9273</th>\n",
       "      <td>9273</td>\n",
       "      <td>5.0</td>\n",
       "      <td>3.0</td>\n",
       "      <td>1.0</td>\n",
       "      <td>5.0</td>\n",
       "      <td>4.0</td>\n",
       "      <td>3.0</td>\n",
       "      <td>3.0</td>\n",
       "      <td>4.0</td>\n",
       "      <td>5.0</td>\n",
       "      <td>...</td>\n",
       "      <td>1.0</td>\n",
       "      <td>38822</td>\n",
       "      <td>1.0</td>\n",
       "      <td>2.0</td>\n",
       "      <td>3.0</td>\n",
       "      <td>2.0</td>\n",
       "      <td>1.0</td>\n",
       "      <td>3.0</td>\n",
       "      <td>2.0</td>\n",
       "      <td>1</td>\n",
       "    </tr>\n",
       "    <tr>\n",
       "      <th>14135</th>\n",
       "      <td>14135</td>\n",
       "      <td>4.0</td>\n",
       "      <td>5.0</td>\n",
       "      <td>4.0</td>\n",
       "      <td>4.0</td>\n",
       "      <td>5.0</td>\n",
       "      <td>5.0</td>\n",
       "      <td>5.0</td>\n",
       "      <td>4.0</td>\n",
       "      <td>4.0</td>\n",
       "      <td>...</td>\n",
       "      <td>2.0</td>\n",
       "      <td>336</td>\n",
       "      <td>1.0</td>\n",
       "      <td>2.0</td>\n",
       "      <td>1.0</td>\n",
       "      <td>1.0</td>\n",
       "      <td>1.0</td>\n",
       "      <td>2.0</td>\n",
       "      <td>2.0</td>\n",
       "      <td>1</td>\n",
       "    </tr>\n",
       "  </tbody>\n",
       "</table>\n",
       "<p>4 rows × 70 columns</p>\n",
       "</div>"
      ],
      "text/plain": [
       "       index   Q1   Q2   Q3   Q4   Q5   Q6   Q7   Q8   Q9  ...  engnat    age  \\\n",
       "4976    4976  4.0  5.0  4.0  3.0  4.0  4.0  4.0  4.0  5.0  ...     2.0    545   \n",
       "6725    6725  1.0  1.0  3.0  3.0  5.0  3.0  5.0  1.0  5.0  ...     1.0    722   \n",
       "9273    9273  5.0  3.0  1.0  5.0  4.0  3.0  3.0  4.0  5.0  ...     1.0  38822   \n",
       "14135  14135  4.0  5.0  4.0  4.0  5.0  5.0  5.0  4.0  4.0  ...     2.0    336   \n",
       "\n",
       "       hand  religion  orientation  voted  married  familysize  ASD  nerdiness  \n",
       "4976    1.0       2.0          1.0    1.0      2.0         4.0  2.0          0  \n",
       "6725    2.0       2.0          1.0    1.0      2.0         3.0  2.0          0  \n",
       "9273    1.0       2.0          3.0    2.0      1.0         3.0  2.0          1  \n",
       "14135   1.0       2.0          1.0    1.0      1.0         2.0  2.0          1  \n",
       "\n",
       "[4 rows x 70 columns]"
      ]
     },
     "execution_count": 99,
     "metadata": {},
     "output_type": "execute_result"
    }
   ],
   "source": [
    "train[train.age > 125 ]\n"
   ]
  },
  {
   "cell_type": "code",
   "execution_count": 100,
   "id": "22be735b",
   "metadata": {
    "ExecuteTime": {
     "end_time": "2022-08-07T00:43:46.938399Z",
     "start_time": "2022-08-07T00:43:46.921672Z"
    }
   },
   "outputs": [],
   "source": [
    "age_index = train[train.age > 125 ].index"
   ]
  },
  {
   "cell_type": "code",
   "execution_count": 101,
   "id": "5f1b7ba5",
   "metadata": {
    "ExecuteTime": {
     "end_time": "2022-08-07T00:43:50.176807Z",
     "start_time": "2022-08-07T00:43:50.141121Z"
    }
   },
   "outputs": [
    {
     "data": {
      "text/html": [
       "<div>\n",
       "<style scoped>\n",
       "    .dataframe tbody tr th:only-of-type {\n",
       "        vertical-align: middle;\n",
       "    }\n",
       "\n",
       "    .dataframe tbody tr th {\n",
       "        vertical-align: top;\n",
       "    }\n",
       "\n",
       "    .dataframe thead th {\n",
       "        text-align: right;\n",
       "    }\n",
       "</style>\n",
       "<table border=\"1\" class=\"dataframe\">\n",
       "  <thead>\n",
       "    <tr style=\"text-align: right;\">\n",
       "      <th></th>\n",
       "      <th>index</th>\n",
       "      <th>Q1</th>\n",
       "      <th>Q2</th>\n",
       "      <th>Q3</th>\n",
       "      <th>Q4</th>\n",
       "      <th>Q5</th>\n",
       "      <th>Q6</th>\n",
       "      <th>Q7</th>\n",
       "      <th>Q8</th>\n",
       "      <th>Q9</th>\n",
       "      <th>...</th>\n",
       "      <th>engnat</th>\n",
       "      <th>age</th>\n",
       "      <th>hand</th>\n",
       "      <th>religion</th>\n",
       "      <th>orientation</th>\n",
       "      <th>voted</th>\n",
       "      <th>married</th>\n",
       "      <th>familysize</th>\n",
       "      <th>ASD</th>\n",
       "      <th>nerdiness</th>\n",
       "    </tr>\n",
       "  </thead>\n",
       "  <tbody>\n",
       "    <tr>\n",
       "      <th>1019</th>\n",
       "      <td>1019</td>\n",
       "      <td>5.0</td>\n",
       "      <td>5.0</td>\n",
       "      <td>5.0</td>\n",
       "      <td>5.0</td>\n",
       "      <td>5.0</td>\n",
       "      <td>5.0</td>\n",
       "      <td>5.0</td>\n",
       "      <td>5.0</td>\n",
       "      <td>5.0</td>\n",
       "      <td>...</td>\n",
       "      <td>2.0</td>\n",
       "      <td>100</td>\n",
       "      <td>3.0</td>\n",
       "      <td>10.0</td>\n",
       "      <td>5.0</td>\n",
       "      <td>1.0</td>\n",
       "      <td>1.0</td>\n",
       "      <td>2919.0</td>\n",
       "      <td>1.0</td>\n",
       "      <td>0</td>\n",
       "    </tr>\n",
       "  </tbody>\n",
       "</table>\n",
       "<p>1 rows × 70 columns</p>\n",
       "</div>"
      ],
      "text/plain": [
       "      index   Q1   Q2   Q3   Q4   Q5   Q6   Q7   Q8   Q9  ...  engnat  age  \\\n",
       "1019   1019  5.0  5.0  5.0  5.0  5.0  5.0  5.0  5.0  5.0  ...     2.0  100   \n",
       "\n",
       "      hand  religion  orientation  voted  married  familysize  ASD  nerdiness  \n",
       "1019   3.0      10.0          5.0    1.0      1.0      2919.0  1.0          0  \n",
       "\n",
       "[1 rows x 70 columns]"
      ]
     },
     "execution_count": 101,
     "metadata": {},
     "output_type": "execute_result"
    }
   ],
   "source": [
    "train[train.familysize == max(train.familysize)]"
   ]
  },
  {
   "cell_type": "code",
   "execution_count": 102,
   "id": "36ceef56",
   "metadata": {
    "ExecuteTime": {
     "end_time": "2022-08-07T00:45:33.361681Z",
     "start_time": "2022-08-07T00:45:16.147900Z"
    }
   },
   "outputs": [
    {
     "data": {
      "text/plain": [
       "XGBRegressor(base_score=0.5, booster='gbtree', callbacks=None,\n",
       "             colsample_bylevel=1, colsample_bynode=1, colsample_bytree=1,\n",
       "             early_stopping_rounds=None, enable_categorical=False,\n",
       "             eval_metric=None, gamma=0, gpu_id=-1, grow_policy='depthwise',\n",
       "             importance_type=None, interaction_constraints='',\n",
       "             learning_rate=0.300000012, max_bin=256, max_cat_to_onehot=4,\n",
       "             max_delta_step=0, max_depth=6, max_leaves=0, min_child_weight=1,\n",
       "             missing=nan, monotone_constraints='()', n_estimators=1000,\n",
       "             n_jobs=0, num_parallel_tree=1, predictor='auto', random_state=0,\n",
       "             reg_alpha=0, reg_lambda=1, ...)"
      ]
     },
     "execution_count": 102,
     "metadata": {},
     "output_type": "execute_result"
    }
   ],
   "source": [
    "train_1 = train.drop(train[train.age > 125 ].index)\n",
    "\n",
    "xgb_1 = XGBRegressor( n_estimators=1000)\n",
    "xgb_1.fit(train_1.drop([\"age\",\"nerdiness\"],axis = 1), train_1.age)"
   ]
  },
  {
   "cell_type": "code",
   "execution_count": 103,
   "id": "8fbe8fa0",
   "metadata": {
    "ExecuteTime": {
     "end_time": "2022-08-07T00:45:33.379777Z",
     "start_time": "2022-08-07T00:45:33.367253Z"
    }
   },
   "outputs": [
    {
     "data": {
      "text/plain": [
       "Int64Index([4976, 6725, 9273, 14135], dtype='int64')"
      ]
     },
     "execution_count": 103,
     "metadata": {},
     "output_type": "execute_result"
    }
   ],
   "source": [
    "age_index"
   ]
  },
  {
   "cell_type": "code",
   "execution_count": 104,
   "id": "7dc10613",
   "metadata": {
    "ExecuteTime": {
     "end_time": "2022-08-07T00:45:33.423916Z",
     "start_time": "2022-08-07T00:45:33.385767Z"
    }
   },
   "outputs": [
    {
     "name": "stdout",
     "output_type": "stream",
     "text": [
      "4976     49\n",
      "6725     62\n",
      "9273     11\n",
      "14135    23\n",
      "Name: age, dtype: int64\n"
     ]
    }
   ],
   "source": [
    "age_xgb = xgb_1.predict(train[train.age > 125 ].drop([\"age\",\"nerdiness\"],axis = 1))\n",
    "for _ in range(0,len(age_index)):\n",
    "    train.age[age_index[_]] = int(age_xgb[_])\n",
    "print(train.age[age_index])"
   ]
  },
  {
   "cell_type": "code",
   "execution_count": 105,
   "id": "e2f17c2d",
   "metadata": {
    "ExecuteTime": {
     "end_time": "2022-08-07T00:45:33.455628Z",
     "start_time": "2022-08-07T00:45:33.429136Z"
    }
   },
   "outputs": [],
   "source": [
    "fsize_index = train[train.familysize == max(train.familysize)].index"
   ]
  },
  {
   "cell_type": "code",
   "execution_count": 106,
   "id": "7fb19f92",
   "metadata": {
    "ExecuteTime": {
     "end_time": "2022-08-07T00:45:53.576991Z",
     "start_time": "2022-08-07T00:45:33.458059Z"
    }
   },
   "outputs": [
    {
     "data": {
      "text/plain": [
       "XGBRegressor(base_score=0.5, booster='gbtree', callbacks=None,\n",
       "             colsample_bylevel=1, colsample_bynode=1, colsample_bytree=1,\n",
       "             early_stopping_rounds=None, enable_categorical=False,\n",
       "             eval_metric=None, gamma=0, gpu_id=-1, grow_policy='depthwise',\n",
       "             importance_type=None, interaction_constraints='',\n",
       "             learning_rate=0.300000012, max_bin=256, max_cat_to_onehot=4,\n",
       "             max_delta_step=0, max_depth=6, max_leaves=0, min_child_weight=1,\n",
       "             missing=nan, monotone_constraints='()', n_estimators=1000,\n",
       "             n_jobs=0, num_parallel_tree=1, predictor='auto', random_state=0,\n",
       "             reg_alpha=0, reg_lambda=1, ...)"
      ]
     },
     "execution_count": 106,
     "metadata": {},
     "output_type": "execute_result"
    }
   ],
   "source": [
    "train_2 = train.drop(fsize_index)\n",
    "\n",
    "xgb_2 = XGBRegressor( n_estimators=1000)\n",
    "xgb_2.fit(train_2.drop([\"familysize\",\"nerdiness\"],axis = 1), train_2.familysize)"
   ]
  },
  {
   "cell_type": "code",
   "execution_count": 107,
   "id": "fd1f08e5",
   "metadata": {
    "ExecuteTime": {
     "end_time": "2022-08-07T00:45:53.622796Z",
     "start_time": "2022-08-07T00:45:53.579089Z"
    }
   },
   "outputs": [
    {
     "name": "stdout",
     "output_type": "stream",
     "text": [
      "1019    3.922825\n",
      "Name: familysize, dtype: float64\n"
     ]
    }
   ],
   "source": [
    "fsize_xgb = xgb_2.predict(train[train.familysize == max(train.familysize)].drop([\"familysize\",\"nerdiness\"],axis =1 ))\n",
    "train.familysize[fsize_index] = fsize_xgb\n",
    "print(train.familysize[fsize_index])"
   ]
  },
  {
   "cell_type": "code",
   "execution_count": 108,
   "id": "fea06627",
   "metadata": {
    "ExecuteTime": {
     "end_time": "2022-08-07T00:45:53.669290Z",
     "start_time": "2022-08-07T00:45:53.633257Z"
    }
   },
   "outputs": [
    {
     "data": {
      "text/html": [
       "<div>\n",
       "<style scoped>\n",
       "    .dataframe tbody tr th:only-of-type {\n",
       "        vertical-align: middle;\n",
       "    }\n",
       "\n",
       "    .dataframe tbody tr th {\n",
       "        vertical-align: top;\n",
       "    }\n",
       "\n",
       "    .dataframe thead th {\n",
       "        text-align: right;\n",
       "    }\n",
       "</style>\n",
       "<table border=\"1\" class=\"dataframe\">\n",
       "  <thead>\n",
       "    <tr style=\"text-align: right;\">\n",
       "      <th></th>\n",
       "      <th>index</th>\n",
       "      <th>Q1</th>\n",
       "      <th>Q2</th>\n",
       "      <th>Q3</th>\n",
       "      <th>Q4</th>\n",
       "      <th>Q5</th>\n",
       "      <th>Q6</th>\n",
       "      <th>Q7</th>\n",
       "      <th>Q8</th>\n",
       "      <th>Q9</th>\n",
       "      <th>...</th>\n",
       "      <th>engnat</th>\n",
       "      <th>age</th>\n",
       "      <th>hand</th>\n",
       "      <th>religion</th>\n",
       "      <th>orientation</th>\n",
       "      <th>voted</th>\n",
       "      <th>married</th>\n",
       "      <th>familysize</th>\n",
       "      <th>ASD</th>\n",
       "      <th>nerdiness</th>\n",
       "    </tr>\n",
       "  </thead>\n",
       "  <tbody>\n",
       "  </tbody>\n",
       "</table>\n",
       "<p>0 rows × 70 columns</p>\n",
       "</div>"
      ],
      "text/plain": [
       "Empty DataFrame\n",
       "Columns: [index, Q1, Q2, Q3, Q4, Q5, Q6, Q7, Q8, Q9, Q10, Q11, Q12, Q13, Q14, Q15, Q16, Q17, Q18, Q19, Q20, Q21, Q22, Q23, Q24, Q25, Q26, country, introelapse, testelapse, surveyelapse, TIPI1, TIPI2, TIPI3, TIPI4, TIPI5, TIPI6, TIPI7, TIPI8, TIPI9, TIPI10, VCL1, VCL2, VCL3, VCL4, VCL5, VCL6, VCL7, VCL8, VCL9, VCL10, VCL11, VCL12, VCL13, VCL14, VCL15, VCL16, education, urban, gender, engnat, age, hand, religion, orientation, voted, married, familysize, ASD, nerdiness]\n",
       "Index: []\n",
       "\n",
       "[0 rows x 70 columns]"
      ]
     },
     "execution_count": 108,
     "metadata": {},
     "output_type": "execute_result"
    }
   ],
   "source": [
    "train[train.gender.isnull() == True]"
   ]
  },
  {
   "cell_type": "markdown",
   "id": "13d3a36c",
   "metadata": {
    "ExecuteTime": {
     "end_time": "2022-08-07T00:46:01.410971Z",
     "start_time": "2022-08-07T00:46:01.402504Z"
    }
   },
   "source": [
    "# 데이터 스케일링"
   ]
  },
  {
   "cell_type": "code",
   "execution_count": 78,
   "id": "858a13a8",
   "metadata": {
    "ExecuteTime": {
     "end_time": "2022-08-07T00:37:24.766996Z",
     "start_time": "2022-08-07T00:37:24.731850Z"
    }
   },
   "outputs": [],
   "source": [
    "def scaling(data):\n",
    "    scale = QuantileTransformer(n_quantiles=100)\n",
    "    col = train.drop([\"nerdiness\",\"index\"],axis = 1).columns\n",
    "    scale.fit(train[col])\n",
    "    train_scale = scale.transform(train[col])\n",
    "    train_scale = pd.DataFrame(data = train_scale)\n",
    "    train_scale.columns = col\n",
    "    return train_scale\n"
   ]
  },
  {
   "cell_type": "code",
   "execution_count": 79,
   "id": "41875a56",
   "metadata": {
    "ExecuteTime": {
     "end_time": "2022-08-07T00:37:25.029927Z",
     "start_time": "2022-08-07T00:37:24.770626Z"
    }
   },
   "outputs": [],
   "source": [
    "train_scale = scaling(train)"
   ]
  },
  {
   "cell_type": "code",
   "execution_count": 80,
   "id": "2760c6d1",
   "metadata": {
    "ExecuteTime": {
     "end_time": "2022-08-07T00:37:25.260264Z",
     "start_time": "2022-08-07T00:37:25.031925Z"
    },
    "scrolled": true
   },
   "outputs": [],
   "source": [
    "train_describe = train.describe()\n",
    "train_describe.to_csv(\"describe.csv\")"
   ]
  },
  {
   "cell_type": "markdown",
   "id": "fdf31762",
   "metadata": {},
   "source": [
    "# 모델 만들기 및 검증하기 (train data 에서 검증하기)"
   ]
  },
  {
   "cell_type": "code",
   "execution_count": 110,
   "id": "1c10e145",
   "metadata": {
    "ExecuteTime": {
     "end_time": "2022-08-07T00:47:19.253357Z",
     "start_time": "2022-08-07T00:47:19.235358Z"
    }
   },
   "outputs": [],
   "source": [
    "train_x , train_y , test_x, test_y = train_test_split(train_scale,train.nerdiness,test_size=0.1,random_state=2022)"
   ]
  },
  {
   "cell_type": "code",
   "execution_count": 115,
   "id": "28a29ef9",
   "metadata": {
    "ExecuteTime": {
     "end_time": "2022-08-07T00:52:42.029090Z",
     "start_time": "2022-08-07T00:51:23.455519Z"
    }
   },
   "outputs": [
    {
     "data": {
      "text/plain": [
       "RandomForestClassifier(n_estimators=3000, n_jobs=-1)"
      ]
     },
     "execution_count": 115,
     "metadata": {},
     "output_type": "execute_result"
    }
   ],
   "source": [
    "xgb = XGBClassifier( n_estimators=3000,n_jobs = -1)\n",
    "lgb = LGBMClassifier(n_estimators=3000,n_jobs = -1)\n",
    "rfc = RandomForestClassifier(n_estimators=3000, n_jobs=-1)\n",
    "\n",
    "xgb.fit(train_x, test_x)\n",
    "lgb.fit(train_x, test_x)\n",
    "rfc.fit(train_x, test_x)"
   ]
  },
  {
   "cell_type": "code",
   "execution_count": 116,
   "id": "f563af0a",
   "metadata": {
    "ExecuteTime": {
     "end_time": "2022-08-07T00:52:47.574644Z",
     "start_time": "2022-08-07T00:52:47.416125Z"
    }
   },
   "outputs": [
    {
     "data": {
      "text/plain": [
       "0.7793333333333333"
      ]
     },
     "execution_count": 116,
     "metadata": {},
     "output_type": "execute_result"
    }
   ],
   "source": [
    "xgb.score(train_y,test_y)"
   ]
  },
  {
   "cell_type": "code",
   "execution_count": 117,
   "id": "68f37aa9",
   "metadata": {
    "ExecuteTime": {
     "end_time": "2022-08-07T00:52:49.782548Z",
     "start_time": "2022-08-07T00:52:49.309183Z"
    }
   },
   "outputs": [
    {
     "data": {
      "text/plain": [
       "0.7886666666666666"
      ]
     },
     "execution_count": 117,
     "metadata": {},
     "output_type": "execute_result"
    }
   ],
   "source": [
    "lgb.score(train_y,test_y)"
   ]
  },
  {
   "cell_type": "code",
   "execution_count": 118,
   "id": "9d5b66f7",
   "metadata": {
    "ExecuteTime": {
     "end_time": "2022-08-07T00:52:51.736044Z",
     "start_time": "2022-08-07T00:52:51.096705Z"
    }
   },
   "outputs": [
    {
     "data": {
      "text/plain": [
       "0.7913333333333333"
      ]
     },
     "execution_count": 118,
     "metadata": {},
     "output_type": "execute_result"
    }
   ],
   "source": [
    "rfc.score(train_y,test_y)"
   ]
  }
 ],
 "metadata": {
  "kernelspec": {
   "display_name": "Python 3",
   "language": "python",
   "name": "python3"
  },
  "language_info": {
   "codemirror_mode": {
    "name": "ipython",
    "version": 3
   },
   "file_extension": ".py",
   "mimetype": "text/x-python",
   "name": "python",
   "nbconvert_exporter": "python",
   "pygments_lexer": "ipython3",
   "version": "3.8.5"
  },
  "toc": {
   "base_numbering": 1,
   "nav_menu": {},
   "number_sections": true,
   "sideBar": true,
   "skip_h1_title": false,
   "title_cell": "Table of Contents",
   "title_sidebar": "Contents",
   "toc_cell": false,
   "toc_position": {},
   "toc_section_display": true,
   "toc_window_display": false
  }
 },
 "nbformat": 4,
 "nbformat_minor": 5
}
